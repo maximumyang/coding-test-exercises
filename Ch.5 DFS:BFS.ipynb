{
 "cells": [
  {
   "cell_type": "code",
   "execution_count": 65,
   "metadata": {},
   "outputs": [
    {
     "name": "stdout",
     "output_type": "stream",
     "text": [
      "3 1 2 5 4\n",
      "3 1 4 2 5 "
     ]
    }
   ],
   "source": [
    "#1260\n",
    "\n",
    "n, m, v = map(int, input().split())\n",
    "\n",
    "temp = []\n",
    "\n",
    "for _ in range(m):\n",
    "    temp.append(list(map(int, input().split())))\n",
    "\n",
    "# print(temp)\n",
    "\n",
    "#convert into adjacency matrix\n",
    "graph = [[],]\n",
    "\n",
    "for node in range(1,n+1):\n",
    "    node_list = []\n",
    "    for edge in temp:\n",
    "        if node in edge:\n",
    "            #copy를 반드시 써줘야 함. 같은 주소로 할당되나...?\n",
    "            edge_deleted = edge.copy() \n",
    "            edge_deleted.remove(node)\n",
    "            node_list.extend(edge_deleted)\n",
    "    graph.append(node_list)\n",
    "\n",
    "#sort every element of list graph in ascending order so that small numbers are checked out first\n",
    "graph = list(map(sorted, graph))\n",
    "                \n",
    "# print(graph)\n",
    "\n",
    "visited = [False]*(n+1)\n",
    "\n",
    "def dfs(graph, v, visited, output):\n",
    "    #현재 노드를  방문 처리\n",
    "    visited[v] = True\n",
    "    # print(v, end=' ')\n",
    "    output.append(v)\n",
    "    \n",
    "    \n",
    "    #현재 노드와 연결된 다른 노드를 재귀적으로 방문\n",
    "    for i in graph[v]:\n",
    "        if not visited[i]:\n",
    "            dfs(graph, i, visited, output)\n",
    " \n",
    "    return output\n",
    "    \n",
    "output_list = []\n",
    "        \n",
    "dfs_answer = dfs(graph, v, visited, output_list)\n",
    "print(\" \".join(list(map(str, dfs_answer))))\n",
    "\n",
    "from collections import deque\n",
    "\n",
    "visited = [False]*(n+1)\n",
    "\n",
    "def bfs(graph, start, visited):\n",
    "    #queue 구현을 위해 deque 라이브러리 사용\n",
    "    queue = deque([start])\n",
    "    \n",
    "    #현재 노드 방문 처리\n",
    "    visited[start]=True\n",
    "    \n",
    "    #큐가 빌 때까지 반복\n",
    "    while queue:\n",
    "        #큐에서 하나의 원소를 뽑아 출력\n",
    "        v = queue.popleft()\n",
    "        print(v, end = \" \")\n",
    "        \n",
    "        #해당 원소와 연결된, 아직 방문하지 않은 원소들을 큐에 삽입\n",
    "        for i in graph[v]:\n",
    "            if not visited[i]:\n",
    "                queue.append(i)\n",
    "                visited[i]=True\n",
    "\n",
    "\n",
    "bfs(graph, v, visited)\n",
    "\n",
    "    "
   ]
  },
  {
   "cell_type": "code",
   "execution_count": 32,
   "metadata": {},
   "outputs": [
    {
     "name": "stdout",
     "output_type": "stream",
     "text": [
      "yes\n",
      "yes\n",
      "no\n",
      "no\n",
      "no\n",
      "yes\n",
      "yes\n"
     ]
    }
   ],
   "source": [
    "#4949\n",
    "\n",
    "line_input = input()[:-1].split(\".\")[:-1]\n",
    "\n",
    "for line in line_input:\n",
    "    brackets_list = []\n",
    "    for i in line:\n",
    "        if i in ['(',')','[',']']:\n",
    "            brackets_list.append(i)\n",
    "\n",
    "    bracket_types = ['(',')','[',']']\n",
    "    stack = []\n",
    "    for i in brackets_list:\n",
    "        stack.append(i)\n",
    "        try:\n",
    "            if stack[-2] in ['('] and stack[-1] in [')']:\n",
    "                stack.pop()\n",
    "                stack.pop()\n",
    "            elif stack[-2] in ['['] and stack[-1] in [']']:\n",
    "                stack.pop()\n",
    "                stack.pop()\n",
    "        except:\n",
    "            pass\n",
    "\n",
    "    if stack==[]:\n",
    "        print(\"yes\")\n",
    "    else:\n",
    "        print(\"no\")\n",
    "        \n",
    "\n",
    "    \n",
    "    \n",
    "    \n",
    "    \n",
    "        \n"
   ]
  },
  {
   "cell_type": "code",
   "execution_count": 2,
   "metadata": {},
   "outputs": [
    {
     "name": "stdout",
     "output_type": "stream",
     "text": [
      "yes\n",
      "yes\n",
      "no\n",
      "no\n",
      "no\n",
      "yes\n",
      "yes\n"
     ]
    }
   ],
   "source": [
    "#4949 Revised\n",
    "\n",
    "line_input = input()\n",
    "\n",
    "while line_input != \".\":\n",
    "        \n",
    "    brackets_list = []\n",
    "    for i in line_input:\n",
    "        if i in ['(',')','[',']']:\n",
    "            brackets_list.append(i)\n",
    "\n",
    "    stack = []\n",
    "    for i in brackets_list:\n",
    "        stack.append(i)\n",
    "        try:\n",
    "            if stack[-2] in ['('] and stack[-1] in [')']:\n",
    "                stack.pop()\n",
    "                stack.pop()\n",
    "            elif stack[-2] in ['['] and stack[-1] in [']']:\n",
    "                stack.pop()\n",
    "                stack.pop()\n",
    "        except:\n",
    "            pass\n",
    "\n",
    "    if stack==[]:\n",
    "        print(\"yes\")\n",
    "    else:\n",
    "        print(\"no\")\n",
    "        \n",
    "    line_input = input()\n",
    "            "
   ]
  },
  {
   "cell_type": "code",
   "execution_count": 44,
   "metadata": {},
   "outputs": [
    {
     "ename": "ValueError",
     "evalue": "invalid literal for int() with base 10: '7 6 1 2 2 3 1 5 5 2 5 6 4 7'",
     "output_type": "error",
     "traceback": [
      "\u001b[0;31m---------------------------------------------------------------------------\u001b[0m",
      "\u001b[0;31mValueError\u001b[0m                                Traceback (most recent call last)",
      "Cell \u001b[0;32mIn[44], line 1\u001b[0m\n\u001b[0;32m----> 1\u001b[0m node_num \u001b[39m=\u001b[39m \u001b[39mint\u001b[39;49m(\u001b[39minput\u001b[39;49m())\n\u001b[1;32m      2\u001b[0m edge_num \u001b[39m=\u001b[39m \u001b[39mint\u001b[39m(\u001b[39minput\u001b[39m())\n\u001b[1;32m      3\u001b[0m edges \u001b[39m=\u001b[39m []\n",
      "\u001b[0;31mValueError\u001b[0m: invalid literal for int() with base 10: '7 6 1 2 2 3 1 5 5 2 5 6 4 7'"
     ]
    }
   ],
   "source": [
    "#2606 바이러스\n",
    "\n",
    "node_num = int(input())\n",
    "edge_num = int(input())\n",
    "edges = []\n",
    "for _ in range(edge_num):\n",
    "    edges.append(sorted(list(map(int, input().split(' ')))))\n",
    "\n",
    "visited = [False]*(node_num+1)\n",
    "visited[1]=True\n",
    "\n",
    "for i in edges:\n",
    "    if any([visited[i[0]],visited[i[1]]])==True:\n",
    "        visited[i[0]]=True\n",
    "        visited[i[1]]=True\n",
    "\n",
    "print(sum(visited)-1)\n",
    "\n"
   ]
  },
  {
   "cell_type": "code",
   "execution_count": 49,
   "metadata": {},
   "outputs": [
    {
     "name": "stdout",
     "output_type": "stream",
     "text": [
      "4\n"
     ]
    }
   ],
   "source": [
    "#2606 바이러스 Revised\n",
    "\n",
    "node_num = int(input())\n",
    "edge_num = int(input())\n",
    "edges = []\n",
    "for _ in range(edge_num):\n",
    "    edges.append(sorted(list(map(int, input().split(' ')))))\n",
    "\n",
    "visited = [False]*(node_num+1)\n",
    "visited[1]=True\n",
    "\n",
    "\n",
    "while True:\n",
    "    \n",
    "    visited_before = visited.copy()\n",
    "    \n",
    "    for i in edges:\n",
    "        if any([visited[i[0]],visited[i[1]]])==True:\n",
    "            visited[i[0]]=True\n",
    "            visited[i[1]]=True\n",
    "\n",
    "    if visited == visited_before:\n",
    "        break\n",
    "\n",
    "print(sum(visited)-1)\n",
    "\n",
    "\n"
   ]
  },
  {
   "cell_type": "code",
   "execution_count": 23,
   "metadata": {},
   "outputs": [
    {
     "name": "stdout",
     "output_type": "stream",
     "text": [
      "6 "
     ]
    }
   ],
   "source": [
    "#유기농 배추\n",
    "#https://www.acmicpc.net/problem/1012\n",
    "\n",
    "case_num = int(input())\n",
    "\n",
    "def dfs(x,y):\n",
    "    \n",
    "    if x<= -1 or x >= v or y<= -1 or y >= h:\n",
    "        return False\n",
    "    \n",
    "    if graph[x][y] == 1:\n",
    "        graph[x][y] = 0\n",
    "        \n",
    "        #상, 하, 좌, 우 재귀적으로 호출\n",
    "        dfs(x-1, y)\n",
    "        dfs(x, y-1)\n",
    "        dfs(x+1, y)\n",
    "        dfs(x-1, y+1)\n",
    "        return True\n",
    "    return False\n",
    "\n",
    "for _ in range(case_num):\n",
    "\n",
    "    h, v, n = map(int, input().split()) \n",
    "\n",
    "    graph = [[0]*h for _ in range(v)]\n",
    "\n",
    "    for i in range(n):\n",
    "        cabbage_h, cabbage_v = map(int, input().split())\n",
    "        graph[cabbage_v][cabbage_h] = 1\n",
    "\n",
    "    result = 0\n",
    "    for i in range(v):\n",
    "        for j in range(h):\n",
    "            if dfs(i,j) == True:\n",
    "                result += 1\n",
    "\n",
    "    print(result, end=\" \")\n",
    "\n"
   ]
  }
 ],
 "metadata": {
  "kernelspec": {
   "display_name": "base",
   "language": "python",
   "name": "python3"
  },
  "language_info": {
   "codemirror_mode": {
    "name": "ipython",
    "version": 3
   },
   "file_extension": ".py",
   "mimetype": "text/x-python",
   "name": "python",
   "nbconvert_exporter": "python",
   "pygments_lexer": "ipython3",
   "version": "3.10.13"
  },
  "orig_nbformat": 4
 },
 "nbformat": 4,
 "nbformat_minor": 2
}
