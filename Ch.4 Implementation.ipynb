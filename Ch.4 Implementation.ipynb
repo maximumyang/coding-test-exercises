{
 "cells": [
  {
   "cell_type": "code",
   "execution_count": 9,
   "metadata": {},
   "outputs": [
    {
     "name": "stdout",
     "output_type": "stream",
     "text": [
      "10\n",
      "9\n",
      "7\n",
      "55\n",
      "30\n"
     ]
    }
   ],
   "source": [
    "#8958\n",
    "\n",
    "num = int(input())\n",
    "seq_list = []\n",
    "for _ in range(num):\n",
    "    score=0\n",
    "    sub_score=0\n",
    "    for ox in input():\n",
    "        if ox == \"O\":\n",
    "            sub_score+=1\n",
    "            score+=sub_score\n",
    "        else:\n",
    "            sub_score=0\n",
    "    print(score)\n",
    "            \n",
    "        \n",
    "            \n",
    "        "
   ]
  },
  {
   "cell_type": "code",
   "execution_count": 1,
   "metadata": {},
   "outputs": [
    {
     "name": "stdout",
     "output_type": "stream",
     "text": [
      "289\n",
      "2\n",
      "12\n",
      "2\n",
      "157\n"
     ]
    }
   ],
   "source": [
    "#16961\n",
    "\n",
    "num = int(input())\n",
    "\n",
    "tab_space= []\n",
    "for _ in range(num):\n",
    "    cust_info = input().split()\n",
    "    tab_space.append(cust_info)\n",
    "\n",
    "tab_space_dict = {}\n",
    "for cust_info_list  in tab_space:\n",
    "    temp = range(int(cust_info_list[1]),int(cust_info_list[2])+1)\n",
    "    cust_num = ()\n",
    "    for k in temp:\n",
    "        if k not in tab_space_dict:\n",
    "            if cust_info_list[0]=='T':\n",
    "                tab_space_dict[k]=[1,0]\n",
    "            else: \n",
    "                tab_space_dict[k]=[0,1]\n",
    "        else:\n",
    "            if cust_info_list[0]=='T':\n",
    "                tab_space_dict[k][0]+=1\n",
    "            else: \n",
    "                tab_space_dict[k][1]+=1\n",
    "            \n",
    "print(tab_space_)\n",
    "\n",
    "#Q1\n",
    "print(len(tab_space_dict.keys()))\n",
    "\n",
    "#Q2\n",
    "print(max([i[0]+i[1] for i in tab_space_dict.values()]))\n",
    "\n",
    "#Q3\n",
    "print(len([i for i in tab_space_dict.values() if i[0]==i[1]]))\n",
    "\n",
    "#Q4\n",
    "max_cust_without_fight = max([sum(i) for i in tab_space_dict.values() if i[0]==i[1]])\n",
    "if max_cust_without_fight != 0:\n",
    "    print(max_cust_without_fight)\n",
    "else:\n",
    "    print(0)\n",
    "    \n",
    "#Q5\n",
    "print(max([int(i[2])-int(i[1])+1 for i in tab_space]))"
   ]
  },
  {
   "cell_type": "code",
   "execution_count": null,
   "metadata": {},
   "outputs": [],
   "source": [
    "#16961\n",
    "\n",
    "num = int(input())\n",
    "\n",
    "tab_space= []\n",
    "for _ in range(num):\n",
    "    cust_info = input().split()\n",
    "    tab_space.append(cust_info)\n",
    "\n"
   ]
  },
  {
   "cell_type": "code",
   "execution_count": 1,
   "metadata": {},
   "outputs": [
    {
     "name": "stdout",
     "output_type": "stream",
     "text": [
      "7\n"
     ]
    }
   ],
   "source": [
    "set_1 = {1, 2, 3, 4, 5}\n",
    "set_2 = {2, 3, 5, 6, 8}\n",
    "\n",
    "\n",
    "\n",
    "print(len((set_1.union(set_2))))"
   ]
  },
  {
   "cell_type": "code",
   "execution_count": 89,
   "metadata": {},
   "outputs": [
    {
     "name": "stdout",
     "output_type": "stream",
     "text": [
      "{151: 2, 152: 1, 153: 1, 154: 1, 155: 1, 156: 1, 157: 1, 158: 1, 159: 1, 160: 1, 161: 1, 162: 1, 163: 1, 164: 1, 165: 1, 166: 1, 167: 1, 168: 1, 169: 1, 170: 1, 171: 1, 172: 1, 173: 1, 174: 1, 175: 1, 176: 1, 177: 1, 178: 1, 179: 1, 180: 1, 181: 1, 182: 1, 183: 1, 184: 1, 185: 1, 186: 1, 187: 1, 188: 1, 189: 1, 190: 1, 191: 1, 192: 1, 193: 1, 194: 1, 195: 1, 196: 1, 197: 1, 198: 1, 199: 1, 200: 1, 201: 1, 202: 1, 203: 1, 204: 1, 205: 1, 206: 1, 207: 1, 208: 1, 209: 1, 210: 1, 211: 1, 212: 1, 213: 1, 214: 1, 215: 1, 216: 1, 217: 1, 218: 1, 219: 1, 220: 1, 221: 1, 222: 1, 223: 1, 224: 1, 225: 1, 226: 1, 227: 1, 228: 1, 229: 1, 230: 1, 231: 1, 232: 1, 233: 1, 234: 1, 235: 1, 236: 1, 237: 1, 238: 1, 239: 1, 240: 1, 241: 1, 242: 1, 243: 1, 244: 1, 245: 1, 246: 1, 247: 1, 248: 1, 249: 1, 250: 1, 251: 1, 252: 1, 253: 1, 254: 1, 255: 1, 256: 1, 257: 1, 258: 1, 259: 1, 260: 1, 261: 1, 262: 1, 263: 1, 264: 1, 265: 1, 266: 1, 267: 1, 268: 1, 269: 1, 270: 1, 271: 1, 272: 1, 273: 1, 274: 1, 275: 1, 276: 1, 277: 1, 278: 1, 279: 1, 280: 1, 281: 1, 282: 1, 283: 1, 284: 1, 285: 1, 286: 1, 287: 1, 288: 1, 289: 1, 290: 1, 291: 1, 292: 1, 293: 1, 294: 1, 295: 1, 296: 1, 297: 1, 298: 1, 299: 1, 300: 1, 301: 1, 302: 1, 303: 1, 304: 1, 305: 1, 306: 1}\n"
     ]
    }
   ],
   "source": [
    "print(tab_dict)"
   ]
  },
  {
   "cell_type": "code",
   "execution_count": 52,
   "metadata": {},
   "outputs": [
    {
     "name": "stdout",
     "output_type": "stream",
     "text": [
      "Invalid\n"
     ]
    }
   ],
   "source": [
    "#1331\n",
    "moves=[]\n",
    "for _ in range(36):\n",
    "    moves.append(input())\n",
    "    \n",
    "moves.append(moves[0])\n",
    "knight_moves = [(2,1),(1,2),(-2,1),(-1,2),(2,-1),(1,-2),(-2,-1),(-1,-2)]\n",
    "h_moves = {'A':'1', 'B':'2', 'C':'3', 'D':'4', 'E':'5', 'F':'6'}\n",
    "\n",
    "moves_new = list(map(lambda x: x.replace(x[0],h_moves[x[0]]),moves))\n",
    "\n",
    "valid_moves=[]\n",
    "\n",
    "if len(set(moves))==36:\n",
    "    for i in range(len(moves_new)-1):\n",
    "        h_movement = int(moves_new[i+1][0])- int(moves_new[i][0])\n",
    "        v_movement = int(moves_new[i+1][1])- int(moves_new[i][1])\n",
    "        if (h_movement, v_movement) in knight_moves:\n",
    "            valid_moves.append('Valid')\n",
    "        else:\n",
    "            valid_moves.append(\"Invalid\")\n",
    "\n",
    "    if 'Invalid' in valid_moves:\n",
    "        print(\"Invalid\")\n",
    "    else:\n",
    "        print(\"Valid\")\n",
    "\n",
    "else:\n",
    "    print(\"Invalid\")"
   ]
  },
  {
   "cell_type": "code",
   "execution_count": 74,
   "metadata": {},
   "outputs": [
    {
     "name": "stdout",
     "output_type": "stream",
     "text": [
      "7\n",
      "5\n",
      "3\n"
     ]
    }
   ],
   "source": [
    "#10997\n",
    "\n",
    "\n",
    "num = int(input())\n",
    "h_seq = list(range(1,4*num-2,2))\n",
    "h_seq[-1]=h_seq[-1]-1\n",
    "v_seq = list(range(3,4*num,2)) #only when num>=2\n",
    "\n",
    "# for v_length in v_seq[::-1]:\n",
    "\n"
   ]
  },
  {
   "cell_type": "code",
   "execution_count": 2,
   "metadata": {},
   "outputs": [
    {
     "name": "stdout",
     "output_type": "stream",
     "text": [
      "*****************\n",
      "*                \n",
      "* ***************\n",
      "* *             *\n",
      "* * *********** *\n",
      "* * *         * *\n",
      "* * * ******* * *\n",
      "* * * *     * * *\n",
      "* * * * *** * * *\n",
      "* * * * * * * * *\n",
      "* * * * * * * * *\n",
      "* * * *   * * * *\n",
      "* * * ***** * * *\n",
      "* * *       * * *\n",
      "* * ********* * *\n",
      "* *           * *\n",
      "* ************* *\n",
      "*               *\n",
      "*****************\n"
     ]
    }
   ],
   "source": [
    "#10997\n",
    "\n",
    "\n",
    "num = int(input())\n",
    "\n",
    "if num==1:\n",
    "    print(\"*\")\n",
    "else:\n",
    "    height = 4*num-1 #only when num is larger than or the same as 2\n",
    "    width = int(4*num-3)\n",
    "    half = (height-3)/2 #w중간에 세개를 제외하고 두 개로 쪼개짐\n",
    "\n",
    "    for i in range(1,int(half/2)+1):\n",
    "        print(\"* \"*(max(0,i-1))+\"*\"*(width-(max(0,4*i-6)))+\" *\"*(max(0,i-2))+\n",
    "            \"\\n\"+\n",
    "            \"* \"*i+\" \"*(-4*i+(width+2))+\" *\"*(i-1)\n",
    "            )\n",
    "\n",
    "    middle = int((width-1)/2+1)\n",
    "    repeated_str = (\"* \")*int(((width-1)/2))+\"*\"\n",
    "    print(repeated_str[:middle]+\"*\"+repeated_str[middle+1:])\n",
    "    print(repeated_str)\n",
    "    print(repeated_str)\n",
    "\n",
    "    for i in range(int(half/2),0,-1):\n",
    "        \n",
    "        repeated_str2 = \"* \"*i+\" \"*(int((width-1)/2)-2*i)\n",
    "        repeated_list = list(repeated_str2)\n",
    "        repeated_list[(2*i-1):]=[\"*\"]*len(repeated_list[(2*i-1):])\n",
    "        repeated_str3 = \"\".join(repeated_list)\n",
    "        print(repeated_str2+\" \"+repeated_str2[::-1]+\n",
    "            \"\\n\"+\n",
    "            repeated_str3+\"*\"+repeated_str3[::-1]\n",
    "            )\n",
    "        "
   ]
  },
  {
   "cell_type": "code",
   "execution_count": 22,
   "metadata": {},
   "outputs": [
    {
     "name": "stdout",
     "output_type": "stream",
     "text": [
      "32\n"
     ]
    }
   ],
   "source": [
    "#치킨 배달\n",
    "#https://www.acmicpc.net/problem/15686\n",
    "\n",
    "from itertools import combinations\n",
    "\n",
    "n, m = map(int, input().split())\n",
    "\n",
    "city_composition = []\n",
    "\n",
    "for _ in range(n):\n",
    "    city_composition.append(list(map(int,input().split())))\n",
    "\n",
    "#find the location of the chicken stores\n",
    "#find the location of the houses\n",
    "\n",
    "chicken_location = []\n",
    "house_location = []\n",
    "\n",
    "for i in range(n):\n",
    "    for j in range(n):\n",
    "        if city_composition[i][j]==2:\n",
    "            chicken_location.append([i,j])\n",
    "        elif city_composition[i][j]==1:\n",
    "            house_location.append([i,j]) \n",
    "\n",
    "#finding distance function\n",
    "\n",
    "def find_city_chicken_distance(houses: list, chickens: list) -> int:\n",
    "    \n",
    "    \"\"\"\n",
    "    house: [[0,2],[1,4],[2,1],[3,2]]\n",
    "    chicken:  [[1, 2], [2, 2], [4, 4]]\n",
    "    \n",
    "    \"\"\"\n",
    "    \n",
    "    city_chicken_distance = 0\n",
    "    \n",
    "    for house in houses:\n",
    "        min_chicken_distance = 999\n",
    "        for chicken in chickens:\n",
    "            distance = abs(house[0]-chicken[0])+abs(house[1]-chicken[1])\n",
    "            if distance < min_chicken_distance:\n",
    "                min_chicken_distance = distance\n",
    "        city_chicken_distance += min_chicken_distance\n",
    "    \n",
    "    return city_chicken_distance\n",
    "\n",
    "#Since the overall chicken distance decreases as the number of chicken store increases, the optimal number is just m \n",
    "# -> make combinations out of only m number of chicken_location elements\n",
    "\n",
    "min_city_chicken_distance = 9999999\n",
    "\n",
    "for i in combinations(chicken_location,m):\n",
    "    m_chickens = list(i)\n",
    "    current = find_city_chicken_distance(house_location, m_chickens)\n",
    "    if current < min_city_chicken_distance:\n",
    "        min_city_chicken_distance = current\n",
    "\n",
    "print(min_city_chicken_distance)\n",
    "    \n",
    "    "
   ]
  }
 ],
 "metadata": {
  "kernelspec": {
   "display_name": "base",
   "language": "python",
   "name": "python3"
  },
  "language_info": {
   "codemirror_mode": {
    "name": "ipython",
    "version": 3
   },
   "file_extension": ".py",
   "mimetype": "text/x-python",
   "name": "python",
   "nbconvert_exporter": "python",
   "pygments_lexer": "ipython3",
   "version": "3.10.13"
  },
  "orig_nbformat": 4
 },
 "nbformat": 4,
 "nbformat_minor": 2
}
