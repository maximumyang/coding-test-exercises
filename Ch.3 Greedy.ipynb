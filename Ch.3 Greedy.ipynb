{
 "cells": [
  {
   "cell_type": "code",
   "execution_count": 43,
   "metadata": {},
   "outputs": [
    {
     "name": "stdout",
     "output_type": "stream",
     "text": [
      "-1\n"
     ]
    }
   ],
   "source": [
    "#10162\n",
    "\n",
    "t = int(input())\n",
    "a=300\n",
    "b=60\n",
    "c=10\n",
    "\n",
    "temp = []\n",
    "\n",
    "for i in [a,b,c]:\n",
    "    temp.append(t//i)\n",
    "    t = t%i\n",
    "    if i==c and t!=0:\n",
    "        temp=[-1,]\n",
    "\n",
    "print(\" \".join(list(map(str,temp))))\n",
    "    \n"
   ]
  },
  {
   "cell_type": "code",
   "execution_count": 12,
   "metadata": {},
   "outputs": [
    {
     "name": "stdout",
     "output_type": "stream",
     "text": [
      "4 2 0 4\n",
      "1 0 0 0\n",
      "7 1 1 4\n"
     ]
    }
   ],
   "source": [
    "#2720\n",
    "\n",
    "num = int(input())\n",
    "change_list = []\n",
    "for _ in range(num):\n",
    "    change_list.append(int(input()))\n",
    "\n",
    "num_coins = []\n",
    "\n",
    "for change in change_list:    \n",
    "    temp = []\n",
    "    for coin in [25, 10, 5, 1]:\n",
    "        temp.append(change//coin)\n",
    "        change = change%coin\n",
    "    num_coins.append(temp)\n",
    "\n",
    "for i in num_coins:\n",
    "    print(\" \".join(list(map(str,i))))\n"
   ]
  },
  {
   "cell_type": "code",
   "execution_count": 1,
   "metadata": {},
   "outputs": [
    {
     "name": "stdout",
     "output_type": "stream",
     "text": [
      "32\n"
     ]
    }
   ],
   "source": [
    "#11399\n",
    "#작은 사람부터 더하면 됨.\n",
    "\n",
    "num = int(input())\n",
    "duration = list(map(int,input().split()))\n",
    "\n",
    "duration.sort()\n",
    "total = 0\n",
    "temp = []\n",
    "for i in duration:\n",
    "    total+=i\n",
    "    temp.append(total)\n",
    "\n",
    "\n",
    "print(sum(temp))"
   ]
  },
  {
   "cell_type": "code",
   "execution_count": 10,
   "metadata": {},
   "outputs": [
    {
     "name": "stdout",
     "output_type": "stream",
     "text": [
      "21\n"
     ]
    }
   ],
   "source": [
    "#2437 저울\n",
    "#https://www.acmicpc.net/problem/2437\n",
    "\n",
    "num = int(input())\n",
    "weight = list(map(int,input().split()))\n",
    "\n",
    "weight.sort()\n",
    "\n",
    "smallest_integer = 1\n",
    "\n",
    "for num in weight:\n",
    "    if smallest_integer < num:\n",
    "        break\n",
    "\n",
    "    smallest_integer += num\n",
    "\n",
    "print(smallest_integer)\n",
    "\n",
    "\n",
    "\n"
   ]
  }
 ],
 "metadata": {
  "kernelspec": {
   "display_name": "Python 3",
   "language": "python",
   "name": "python3"
  },
  "language_info": {
   "codemirror_mode": {
    "name": "ipython",
    "version": 3
   },
   "file_extension": ".py",
   "mimetype": "text/x-python",
   "name": "python",
   "nbconvert_exporter": "python",
   "pygments_lexer": "ipython3",
   "version": "3.10.13"
  },
  "orig_nbformat": 4
 },
 "nbformat": 4,
 "nbformat_minor": 2
}
